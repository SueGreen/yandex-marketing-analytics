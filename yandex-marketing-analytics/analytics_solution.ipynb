{
 "cells": [
  {
   "cell_type": "markdown",
   "id": "84aebc76",
   "metadata": {},
   "source": [
    "Содержание:\n",
    "1. [Решение задания 1](#section1.1)\n",
    "2. [Решение задания 2](#section2.1)"
   ]
  },
  {
   "cell_type": "code",
   "execution_count": 1,
   "id": "f1e480eb",
   "metadata": {},
   "outputs": [],
   "source": [
    "import pandas as pd\n",
    "from pathlib import Path"
   ]
  },
  {
   "cell_type": "markdown",
   "id": "e15fb5b4",
   "metadata": {},
   "source": [
    "Задание\n",
    "Необходимо на основе данных на Листе data провести анализ рекламного размещения клиента:\n",
    "1) оценить текущее положение клиента относительно конкурентов в категории (сравнительный анализ эффективности затрат)\n",
    "\n",
    "2) на основе выводов из п1 сформировать рекомендации по использованию инструментов, площадок, устройств"
   ]
  },
  {
   "cell_type": "markdown",
   "id": "762b7d39",
   "metadata": {},
   "source": [
    "#### **Решение задания 1:**\n",
    "<a id='section1.1'></a>"
   ]
  },
  {
   "cell_type": "code",
   "execution_count": 2,
   "id": "d0f3dc01",
   "metadata": {},
   "outputs": [],
   "source": [
    "xlsx = pd.ExcelFile(Path('./data/Рекламный аналитик _ стажировка.xlsx'), engine='openpyxl')"
   ]
  },
  {
   "cell_type": "code",
   "execution_count": 3,
   "id": "abf9d3b3",
   "metadata": {},
   "outputs": [
    {
     "name": "stdout",
     "output_type": "stream",
     "text": [
      "Количество строк: 11912\n"
     ]
    },
    {
     "data": {
      "text/html": [
       "<div>\n",
       "<style scoped>\n",
       "    .dataframe tbody tr th:only-of-type {\n",
       "        vertical-align: middle;\n",
       "    }\n",
       "\n",
       "    .dataframe tbody tr th {\n",
       "        vertical-align: top;\n",
       "    }\n",
       "\n",
       "    .dataframe thead th {\n",
       "        text-align: right;\n",
       "    }\n",
       "</style>\n",
       "<table border=\"1\" class=\"dataframe\">\n",
       "  <thead>\n",
       "    <tr style=\"text-align: right;\">\n",
       "      <th></th>\n",
       "      <th>Client</th>\n",
       "      <th>client_id</th>\n",
       "      <th>Month</th>\n",
       "      <th>Category</th>\n",
       "      <th>Device</th>\n",
       "      <th>Place</th>\n",
       "      <th>BannerType</th>\n",
       "      <th>QueryType (search only)</th>\n",
       "      <th>TargetingType</th>\n",
       "      <th>Shows</th>\n",
       "      <th>Clicks</th>\n",
       "      <th>Cost_rub_wo_NDS</th>\n",
       "      <th>Сonversions</th>\n",
       "    </tr>\n",
       "  </thead>\n",
       "  <tbody>\n",
       "    <tr>\n",
       "      <th>0</th>\n",
       "      <td>Бета</td>\n",
       "      <td>234679</td>\n",
       "      <td>2020-07-01</td>\n",
       "      <td>ВКЛАДЫ</td>\n",
       "      <td>Desktop</td>\n",
       "      <td>Networks</td>\n",
       "      <td>cpc_video</td>\n",
       "      <td>none</td>\n",
       "      <td>Phrase</td>\n",
       "      <td>0</td>\n",
       "      <td>0</td>\n",
       "      <td>0.000000</td>\n",
       "      <td>0</td>\n",
       "    </tr>\n",
       "    <tr>\n",
       "      <th>1</th>\n",
       "      <td>Гамма</td>\n",
       "      <td>458303</td>\n",
       "      <td>2019-04-01</td>\n",
       "      <td>ДЕБЕТОВЫЕ КАРТЫ</td>\n",
       "      <td>Desktop</td>\n",
       "      <td>Networks</td>\n",
       "      <td>cpc_video</td>\n",
       "      <td>none</td>\n",
       "      <td>Phrase</td>\n",
       "      <td>76722</td>\n",
       "      <td>2002</td>\n",
       "      <td>19467.482339</td>\n",
       "      <td>3</td>\n",
       "    </tr>\n",
       "    <tr>\n",
       "      <th>2</th>\n",
       "      <td>Гамма</td>\n",
       "      <td>458303</td>\n",
       "      <td>2019-04-01</td>\n",
       "      <td>ДЕБЕТОВЫЕ КАРТЫ</td>\n",
       "      <td>Desktop</td>\n",
       "      <td>Networks</td>\n",
       "      <td>cpc_video</td>\n",
       "      <td>none</td>\n",
       "      <td>Retargeting</td>\n",
       "      <td>9260</td>\n",
       "      <td>116</td>\n",
       "      <td>2590.924703</td>\n",
       "      <td>0</td>\n",
       "    </tr>\n",
       "    <tr>\n",
       "      <th>3</th>\n",
       "      <td>Гамма</td>\n",
       "      <td>458303</td>\n",
       "      <td>2019-06-01</td>\n",
       "      <td>ДЕБЕТОВЫЕ КАРТЫ</td>\n",
       "      <td>Desktop</td>\n",
       "      <td>Networks</td>\n",
       "      <td>cpc_video</td>\n",
       "      <td>none</td>\n",
       "      <td>Retargeting</td>\n",
       "      <td>0</td>\n",
       "      <td>0</td>\n",
       "      <td>0.000000</td>\n",
       "      <td>0</td>\n",
       "    </tr>\n",
       "    <tr>\n",
       "      <th>4</th>\n",
       "      <td>Гамма</td>\n",
       "      <td>458303</td>\n",
       "      <td>2019-04-01</td>\n",
       "      <td>ДЕБЕТОВЫЕ КАРТЫ</td>\n",
       "      <td>Mobile</td>\n",
       "      <td>Networks</td>\n",
       "      <td>cpc_video</td>\n",
       "      <td>none</td>\n",
       "      <td>Phrase</td>\n",
       "      <td>27140</td>\n",
       "      <td>825</td>\n",
       "      <td>4181.504949</td>\n",
       "      <td>0</td>\n",
       "    </tr>\n",
       "  </tbody>\n",
       "</table>\n",
       "</div>"
      ],
      "text/plain": [
       "  Client  client_id      Month         Category   Device     Place BannerType  \\\n",
       "0   Бета     234679 2020-07-01           ВКЛАДЫ  Desktop  Networks  cpc_video   \n",
       "1  Гамма     458303 2019-04-01  ДЕБЕТОВЫЕ КАРТЫ  Desktop  Networks  cpc_video   \n",
       "2  Гамма     458303 2019-04-01  ДЕБЕТОВЫЕ КАРТЫ  Desktop  Networks  cpc_video   \n",
       "3  Гамма     458303 2019-06-01  ДЕБЕТОВЫЕ КАРТЫ  Desktop  Networks  cpc_video   \n",
       "4  Гамма     458303 2019-04-01  ДЕБЕТОВЫЕ КАРТЫ   Mobile  Networks  cpc_video   \n",
       "\n",
       "  QueryType (search only) TargetingType  Shows  Clicks  Cost_rub_wo_NDS  \\\n",
       "0                    none        Phrase      0       0         0.000000   \n",
       "1                    none        Phrase  76722    2002     19467.482339   \n",
       "2                    none   Retargeting   9260     116      2590.924703   \n",
       "3                    none   Retargeting      0       0         0.000000   \n",
       "4                    none        Phrase  27140     825      4181.504949   \n",
       "\n",
       "   Сonversions  \n",
       "0            0  \n",
       "1            3  \n",
       "2            0  \n",
       "3            0  \n",
       "4            0  "
      ]
     },
     "execution_count": 3,
     "metadata": {},
     "output_type": "execute_result"
    }
   ],
   "source": [
    "data = pd.read_excel(xlsx, 'data')\n",
    "print(f'Количество строк: {len(data.index)}')\n",
    "data.head()"
   ]
  },
  {
   "cell_type": "code",
   "execution_count": null,
   "id": "4ed5ea3c",
   "metadata": {},
   "outputs": [],
   "source": []
  },
  {
   "cell_type": "code",
   "execution_count": null,
   "id": "3ef999af",
   "metadata": {},
   "outputs": [],
   "source": []
  }
 ],
 "metadata": {
  "kernelspec": {
   "display_name": "Python 3",
   "language": "python",
   "name": "python3"
  },
  "language_info": {
   "codemirror_mode": {
    "name": "ipython",
    "version": 3
   },
   "file_extension": ".py",
   "mimetype": "text/x-python",
   "name": "python",
   "nbconvert_exporter": "python",
   "pygments_lexer": "ipython3",
   "version": "3.9.2"
  }
 },
 "nbformat": 4,
 "nbformat_minor": 5
}
